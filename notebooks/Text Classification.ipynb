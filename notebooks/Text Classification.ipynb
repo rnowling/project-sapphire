{
 "metadata": {
  "name": "",
  "signature": "sha256:c21c01905575b909d53a8516107cce0952c1e1f9cfaf6dda13de1aaf4fce8d3f"
 },
 "nbformat": 3,
 "nbformat_minor": 0,
 "worksheets": [
  {
   "cells": [
    {
     "cell_type": "heading",
     "level": 1,
     "metadata": {},
     "source": [
      "Detecting Copied Text Using Unordered Word Sets and a Naive Bayes Classifier"
     ]
    },
    {
     "cell_type": "code",
     "collapsed": false,
     "input": [
      "%load_ext autoreload\n",
      "%autoreload 2\n",
      "%matplotlib inline\n",
      "import matplotlib.pyplot as plt\n",
      "import numpy as np\n",
      "import random"
     ],
     "language": "python",
     "metadata": {},
     "outputs": [],
     "prompt_number": 1
    },
    {
     "cell_type": "markdown",
     "metadata": {},
     "source": [
      "Goal: Identify portions of text that have been copied from a Wikipedia article in one language to an article in another language.\n",
      "\n",
      "To achieve this goal, we need a method that can match pieces of text.  The method should account for the following:\n",
      "\n",
      "* Word order may vary locally (e.g., \"the painted red house\" can become \"the house painted red\").\n",
      "* Individual words may be dropped, added, or changed (e.g., \"the painted red house\" can become \"the red colored house\").\n",
      "* Units of copied text may be as small as a sentence or clause.\n",
      "\n",
      "To meet the criteria, we propose classifying matching each word using its $(N_w - 1)/2$ neighboring words on its left and right. In other words, we propose using a sliding window of $N_w$ linearly-located words to classify each word.  The group of words will be represented as an unordered set to handle local variations in word order.\n",
      "\n",
      "To handle misspellings, we may want to cluster words by their edit distances.\n",
      "\n",
      "Two classification methods appear promising:\n",
      "\n",
      "* Nearest neighbor using cosine similarity -- we can either use word occurence or weight words by their inverse-frequency\n",
      "* Bernoulli Naive Bayes (we don't consider word counts)\n",
      "\n",
      "We need ways to evaluate the choices of $N_w$ and the classification method.  "
     ]
    },
    {
     "cell_type": "heading",
     "level": 2,
     "metadata": {},
     "source": [
      "Preparing Test Data"
     ]
    },
    {
     "cell_type": "markdown",
     "metadata": {},
     "source": [
      "The English version of the Wikipedia articles can be downloaded [here](http://dumps.wikimedia.org/enwiki/).  I used the smallest file of the complete pages, current versions only, in XML format, bzipped.\n",
      "\n",
      "1. Parse XML files\n",
      "2. Strip mediawiki formatting\n",
      "3. Remove punctuation and make letters lowercase\n",
      "\n"
     ]
    },
    {
     "cell_type": "markdown",
     "metadata": {},
     "source": [
      "The first step is to extract the articles from the XML dump."
     ]
    },
    {
     "cell_type": "code",
     "collapsed": false,
     "input": [
      "import xml.etree.ElementTree as ET\n",
      "\n",
      "def read_articles(flname):\n",
      "    tree = ET.parse(flname)\n",
      "    root = tree.getroot()\n",
      "    formatted_articles = []\n",
      "    for page in root.iterfind(\"{http://www.mediawiki.org/xml/export-0.8/}page\"):\n",
      "        article_text = None\n",
      "        title = page.find(\"{http://www.mediawiki.org/xml/export-0.8/}title\").text\n",
      "        revision = page.find(\"{http://www.mediawiki.org/xml/export-0.8/}revision\")\n",
      "        text = revision.find(\"{http://www.mediawiki.org/xml/export-0.8/}text\").text\n",
      "        formatted_articles.append((title, text))\n",
      "    return formatted_articles\n",
      "        "
     ],
     "language": "python",
     "metadata": {},
     "outputs": [],
     "prompt_number": 2
    },
    {
     "cell_type": "code",
     "collapsed": false,
     "input": [
      "articles = read_articles(\"data/enwiki-20140707-pages-meta-current1.xml-p000000010p000010000\")\n",
      "articles = filter(lambda t: not t[0].startswith(\"Talk:\"), articles)\n",
      "print len(articles)\n",
      "articles = filter(lambda t: len(t[1]) > 5000, articles)\n",
      "print len(articles)\n",
      "sampled_articles = list(random.sample(articles, 30))\n",
      "training_articles = sampled_articles[:10]\n",
      "validation_articles = sampled_articles[10:20]\n",
      "near_match_articles = sampled_articles[20:]"
     ],
     "language": "python",
     "metadata": {},
     "outputs": [
      {
       "output_type": "stream",
       "stream": "stdout",
       "text": [
        "6317\n",
        "3942\n"
       ]
      }
     ],
     "prompt_number": 3
    },
    {
     "cell_type": "markdown",
     "metadata": {},
     "source": [
      "The second step is to remove the mediawiki formatting."
     ]
    },
    {
     "cell_type": "code",
     "collapsed": false,
     "input": [
      "import re\n",
      "\n",
      "def remove_block_regex(text, start_delim, end_delim):\n",
      "    block_regex = re.compile(start_delim + r\".+?\" + end_delim, flags=re.DOTALL)\n",
      "    new_string = \"\"\n",
      "    last_end = 0\n",
      "    for match in block_regex.finditer(text):\n",
      "        new_string += text[last_end:match.start(0)] + \" \" \n",
      "        last_end = match.end(0)\n",
      "    new_string += text[last_end:]\n",
      "    \n",
      "    return new_string\n",
      "\n",
      "def replace_link_block(block):\n",
      "    if block.startswith(\"[[image:\") or \\\n",
      "        block.startswith(\"[[file:\"):\n",
      "            return \" \"\n",
      "    elif block[1] != \"[\":\n",
      "        start = block.find(\" \")\n",
      "        if start == -1:\n",
      "            return \" \"\n",
      "        else:\n",
      "            return block[start+1:-1]\n",
      "    elif \"|\" in block:\n",
      "        start = block.find(\"|\")\n",
      "        return block[start+1:-2]\n",
      "    \n",
      "    return block[2:-2]\n",
      "\n",
      "def substitute_links(text):\n",
      "    pos = 0\n",
      "    start_pos = 0\n",
      "    while pos < len(text):\n",
      "        if text[pos:pos+2] == \"[[\":\n",
      "            start_pos = pos\n",
      "            pos += 2\n",
      "        elif text[pos] == \"[\":\n",
      "            start_pos = pos\n",
      "            pos += 1\n",
      "        elif text[pos:pos+2] == \"]]\":\n",
      "            block = text[start_pos:pos+2]\n",
      "            block = replace_link_block(block)\n",
      "            text = text[:start_pos] + block + text[pos+2:]\n",
      "            pos = 0\n",
      "        elif text[pos] == \"]\":\n",
      "            block = text[start_pos:pos+1]\n",
      "            block = replace_link_block(block)\n",
      "            text = text[:start_pos] + block + text[pos+1:]\n",
      "            pos = 0\n",
      "        else:\n",
      "            pos += 1\n",
      "            \n",
      "    return text\n",
      "\n",
      "def remove_tail(text):\n",
      "    headers = [\"==See Also==\", \"== See Also ==\", \"==References==\", \"== References ==\",\n",
      "                \"==External Links==\", \"== External Links ==\", \"==Further Reading==\",\n",
      "                \"== Further Reading ==\"]\n",
      "    positions = [text.find(s.lower()) for s in headers]\n",
      "    positions = filter(lambda p: p != -1, positions)\n",
      "    \n",
      "    if len(positions) == 0:\n",
      "        return text\n",
      "    \n",
      "    pos = min(positions)\n",
      "    \n",
      "    return text[:pos]\n",
      "\n",
      "TAG_REGEX = re.compile(r\"<\\s*(\\w+).+?/\\1\\s*>\", flags=re.DOTALL)\n",
      "\n",
      "def remove_html_tags(text):\n",
      "    pos = 0\n",
      "    start_pos = 0\n",
      "    last_block_end = 0\n",
      "    new_string = \"\"\n",
      "    while pos < len(text):\n",
      "        if text[pos] == \"<\":\n",
      "            start_pos = pos\n",
      "        elif text[pos:pos+2] == \"/>\":\n",
      "            new_string += text[last_block_end:start_pos] + \" \"\n",
      "            pos += 2\n",
      "            last_block_end = pos\n",
      "        pos += 1\n",
      "    new_string += text[last_block_end:]\n",
      "    text = new_string\n",
      "    \n",
      "    new_string = \"\"\n",
      "    last_end = 0\n",
      "    for match in TAG_REGEX.finditer(text):\n",
      "        new_string += text[last_end:match.start(0)] + \" \" \n",
      "        last_end = match.end(0)\n",
      "    new_string += text[last_end:]\n",
      "    \n",
      "    return new_string\n",
      "        \n",
      "\n",
      "def remove_wiki_formatting(text):\n",
      "    text = text.lower()\n",
      "    \n",
      "    text = remove_tail(text)\n",
      "    \n",
      "    text = remove_block_regex(text, r\"\\{\\{\", r\"\\}\\}\")\n",
      "    text = substitute_links(text)\n",
      "    \n",
      "    text = remove_block_regex(text, r\"<!--\", r\"-->\")\n",
      "    text = remove_html_tags(text)\n",
      "   \n",
      "    text = text.replace(\">\", \" \")\n",
      "    text = text.replace(\"<\", \" \")\n",
      "    text = text.replace(\"-\", \" \")\n",
      "    text = text.replace(\"&nbsp;\", \" \")\n",
      "    text = text.replace(\"&gt;\", \">\")\n",
      "    text = text.replace(\"&lt;\", \"<\")\n",
      "    text = text.replace(\"&amp;\", \" \")\n",
      "    text = text.replace(\"|\", \" \")\n",
      "    text = text.replace(\"/\", \" \")\n",
      "    text = text.replace(\"}}\", \" \")\n",
      "    text = text.replace(\"{{\", \" \")\n",
      "    \n",
      "    text = text.replace(\"===\", \"\")\n",
      "    text = text.replace(\"==\", \"\")\n",
      "    text = text.replace(\"=\", \"\")\n",
      "    text = text.replace(\"'''\", \"\")\n",
      "    text = text.replace(\"''\", \"\")\n",
      "    text = text.replace(\".\", \"\")\n",
      "    text = text.replace(\",\", \"\")\n",
      "    text = text.replace(\"\\\"\", \"\")\n",
      "    text = text.replace(\"(\", \"\")\n",
      "    text = text.replace(\")\", \"\")\n",
      "    text = text.replace(\"'\", \"\")\n",
      "    text = text.replace(\"?\", \"\")\n",
      "    text = text.replace(\";\", \"\")\n",
      "    text = text.replace(\":\", \"\")\n",
      "    text = text.replace(\"!\", \"\")\n",
      "    text = text.replace(\"*\", \"\")\n",
      "    \n",
      "    return \" \".join(text.split())"
     ],
     "language": "python",
     "metadata": {},
     "outputs": [],
     "prompt_number": 4
    },
    {
     "cell_type": "code",
     "collapsed": false,
     "input": [
      "stripped_training_articles = map(lambda t: (t[0], remove_wiki_formatting(t[1])), training_articles)\n",
      "stripped_validation_articles = map(lambda t: (t[0], remove_wiki_formatting(t[1])), validation_articles)\n",
      "stripped_near_match_articles = map(lambda t: (t[0], remove_wiki_formatting(t[1])), near_match_articles)"
     ],
     "language": "python",
     "metadata": {},
     "outputs": [],
     "prompt_number": 5
    },
    {
     "cell_type": "heading",
     "level": 2,
     "metadata": {},
     "source": [
      "Extraction of Word Sets"
     ]
    },
    {
     "cell_type": "markdown",
     "metadata": {},
     "source": [
      "Now that we have each article in unformatted, plain text, we can extract the unordered word sets.  The word sets are found by scanning over the articles' text with a sliding window.  For each word, we extract the word, its $n$ neighbors to the left, and its $n$ neighbors to the right.  We represent each word set as a tuple containing an unordered set of the extracted words, the index of the center word, and the title of the article."
     ]
    },
    {
     "cell_type": "code",
     "collapsed": false,
     "input": [
      "def extract_word_sets(article, window_length):\n",
      "    title, text = article\n",
      "    words = text.split()\n",
      "    word_sets = list()\n",
      "    for i in xrange(len(words) - window_length):\n",
      "        word_set = ((title, i + ((window_length - 1) / 2)), frozenset(words[i:i+window_length]))\n",
      "        word_sets.append(word_set)\n",
      "    return word_sets"
     ],
     "language": "python",
     "metadata": {},
     "outputs": [],
     "prompt_number": 6
    },
    {
     "cell_type": "heading",
     "level": 2,
     "metadata": {},
     "source": [
      "Preparation of Data Sets"
     ]
    },
    {
     "cell_type": "markdown",
     "metadata": {},
     "source": [
      "Training and validation sets for four data sets:\n",
      "\n",
      "* Random word sets -- Our null hypothesis.  Want to look at the distributions for randomly-drawn word sets.\n",
      "* Perfect matches -- $H_0$: Duplicate word sets are placed in the training and validation sets along with randomly-drawn word sets.  Mimic cases where there is 1 good perfect match among many random documents.\n",
      "* Off-by-1 matches -- $H_1$: Word sets and their nearest neighbor are placed in the training and validation sets, respectively, along with randomly-drawn word sets.  Mimic cases where there is 1 match with 1 word differing among many random documents.\n",
      "* Off-by-2 matches -- $H_2$: Word sets and their neighbor 2 words down are placed in the training and validation sets, respectively, along with randomly-drawn word sets.  Mimic cases where there is 1 match with 2 word differing among many random documents.\n",
      "\n",
      "These data sets allow us to measure our prediction accuracy against standard \"background noise.\""
     ]
    },
    {
     "cell_type": "code",
     "collapsed": false,
     "input": [
      "training_article_word_sets = map(lambda article: extract_word_sets(article, 5), stripped_training_articles)\n",
      "validation_article_word_sets = map(lambda article: extract_word_sets(article, 5), stripped_validation_articles)\n",
      "near_match_article_word_sets = map(lambda article: extract_word_sets(article, 5), stripped_near_match_articles)\n",
      "training_word_sets = random.sample(reduce(lambda x, y: x + y, training_article_word_sets), 3000)\n",
      "validation_word_sets = random.sample(reduce(lambda x, y: x + y, validation_article_word_sets), 3000)\n",
      "\n",
      "word_set_pairs_0 = []\n",
      "for article_word_sets in near_match_article_word_sets:\n",
      "    for i in xrange(len(article_word_sets)):\n",
      "        word_set_pairs_0.append((article_word_sets[i], article_word_sets[i]))\n",
      "\n",
      "word_set_pairs_1 = []\n",
      "for article_word_sets in near_match_article_word_sets:\n",
      "    for i in xrange(len(article_word_sets) - 1):\n",
      "        word_set_pairs_1.append(article_word_sets[i:i+2])\n",
      "        \n",
      "word_set_pairs_2 = []\n",
      "for article_word_sets in near_match_article_word_sets:\n",
      "    for i in xrange(len(article_word_sets) - 2):\n",
      "        word_set_pairs_2.append((article_word_sets[i], article_word_sets[i+2]))\n",
      "        \n",
      "\n",
      "training_word_set_0 = training_word_sets[:1500]\n",
      "validation_word_set_0 = validation_word_sets[:1500]\n",
      "validation_set_labels_0 = dict()\n",
      "for ws1, ws2 in random.sample(word_set_pairs_0, 1500):\n",
      "    training_word_set_0.append(ws1)\n",
      "    validation_word_set_0.append(ws2)\n",
      "    validation_set_labels_0[ws2[0]] = ws1[0]\n",
      "        \n",
      "        \n",
      "training_word_set_1 = training_word_sets[:1500]\n",
      "validation_word_set_1 = validation_word_sets[:1500]\n",
      "validation_set_labels_1 = dict()\n",
      "for ws1, ws2 in random.sample(word_set_pairs_1, 1500):\n",
      "    training_word_set_1.append(ws1)\n",
      "    validation_word_set_1.append(ws2)\n",
      "    validation_set_labels_1[ws2[0]] = ws1[0]\n",
      "    \n",
      "training_word_set_2 = training_word_sets[:1500]\n",
      "validation_word_set_2 = validation_word_sets[:1500]\n",
      "validation_set_labels_2 = dict()\n",
      "for ws1, ws2 in random.sample(word_set_pairs_2, 1500):\n",
      "    training_word_set_2.append(ws1)\n",
      "    validation_word_set_2.append(ws2)\n",
      "    validation_set_labels_2[ws2[0]] = ws1[0]"
     ],
     "language": "python",
     "metadata": {},
     "outputs": [],
     "prompt_number": 7
    },
    {
     "cell_type": "code",
     "collapsed": false,
     "input": [
      "print len(training_word_sets), len(validation_word_sets)"
     ],
     "language": "python",
     "metadata": {},
     "outputs": [
      {
       "output_type": "stream",
       "stream": "stdout",
       "text": [
        "3000 3000\n"
       ]
      }
     ],
     "prompt_number": 8
    },
    {
     "cell_type": "code",
     "collapsed": false,
     "input": [
      "print training_word_sets[0]"
     ],
     "language": "python",
     "metadata": {},
     "outputs": [
      {
       "output_type": "stream",
       "stream": "stdout",
       "text": [
        "(('Bell Labs', 1293), frozenset([u'being', u'were', u'from', u'emitted', u'waves']))\n"
       ]
      }
     ],
     "prompt_number": 9
    },
    {
     "cell_type": "heading",
     "level": 2,
     "metadata": {},
     "source": [
      "Examination of Word Set Distance Distributions"
     ]
    },
    {
     "cell_type": "markdown",
     "metadata": {},
     "source": [
      "To determine the viability of using a Naive Bayes approach, we want to examine the distribution of overlaps between the word sets.  The distance function is the number of words in $s_1$ that are not in $s_2$ or the difference of $s_1$ and $s_2$ given by:\n",
      "\n",
      "$$\n",
      "d_a(s_1, s_2) = | s_1 - s_2 |\n",
      "$$"
     ]
    },
    {
     "cell_type": "code",
     "collapsed": false,
     "input": [
      "from collections import defaultdict\n",
      "\n",
      "def compute_asymm_dist_distr(word_set1, word_set2):\n",
      "    min_dist_distribution = defaultdict(lambda: 0)\n",
      "    for key, s1 in word_set1:\n",
      "        min_dist = len(s1)\n",
      "        for key2, s2 in word_set2:\n",
      "            dist = 0\n",
      "            for w in s1:\n",
      "                if w not in s2:\n",
      "                    dist += 1\n",
      "            min_dist = min(min_dist, dist)\n",
      "            if min_dist == 0:\n",
      "                break\n",
      "        min_dist_distribution[min_dist] += 1\n",
      "    return min_dist_distribution\n",
      "\n",
      "dist_random_distr = compute_asymm_dist_distr(validation_word_sets, training_word_sets)\n",
      "dist_offset0_distr = compute_asymm_dist_distr(validation_word_set_0, training_word_set_0)\n",
      "dist_offset1_distr = compute_asymm_dist_distr(validation_word_set_1, training_word_set_1)\n",
      "dist_offset2_distr = compute_asymm_dist_distr(validation_word_set_2, training_word_set_2)\n",
      "\n",
      "distances_random = list(sorted(dist_random_distr.keys()))\n",
      "distances_offset0 = list(sorted(dist_offset0_distr.keys()))\n",
      "distances_offset1 = list(sorted(dist_offset1_distr.keys()))\n",
      "distances_offset2 = list(sorted(dist_offset2_distr.keys()))\n",
      "densities_random = [dist_random_distr[d] / float(sum(dist_random_distr.values())) for d in distances_random]\n",
      "densities_offset0 = [dist_offset0_distr[d] / float(sum(dist_offset0_distr.values())) for d in distances_offset0]\n",
      "densities_offset1 = [dist_offset1_distr[d] / float(sum(dist_offset1_distr.values())) for d in distances_offset1]\n",
      "densities_offset2 = [dist_offset2_distr[d] / float(sum(dist_offset2_distr.values())) for d in distances_offset2]\n",
      "\n",
      "plt.plot(distances_random, densities_random, color=\"c\", label=\"Random\")\n",
      "plt.hold(True)\n",
      "plt.plot(distances_offset0, densities_offset0, color=\"r\", label=\"Offset 0\")\n",
      "plt.plot(distances_offset1, densities_offset1, color=\"g\", label=\"Offset 1\")\n",
      "plt.plot(distances_offset2, densities_offset2, color=\"b\", label=\"Offset 2\")\n",
      "plt.xlabel(\"Distance (missing words)\", fontsize=16)\n",
      "plt.ylabel(\"Density\", fontsize=16)\n",
      "plt.legend(loc=\"upper right\")"
     ],
     "language": "python",
     "metadata": {},
     "outputs": [
      {
       "metadata": {},
       "output_type": "pyout",
       "prompt_number": 12,
       "text": [
        "<matplotlib.legend.Legend at 0x6141e90>"
       ]
      },
      {
       "metadata": {},
       "output_type": "display_data",
       "png": "[encoded data removed]",
       "text": [
        "<matplotlib.figure.Figure at 0x4e1dcd0>"
       ]
      }
     ],
     "prompt_number": 12
    },
    {
     "cell_type": "markdown",
     "metadata": {},
     "source": [
      "The probability of finding a word set of length 5 with the same words as another is 1.5%.  As a result, if two word sets are equal, we can only be about 98% confident that the two word sets correspond to the same text.\n",
      "\n",
      "For cases where the word sets share 0 or 1 words, we only have a confidence of about 75%."
     ]
    },
    {
     "cell_type": "heading",
     "level": 2,
     "metadata": {},
     "source": [
      "Naive Bayes"
     ]
    },
    {
     "cell_type": "markdown",
     "metadata": {},
     "source": [
      "(Copied from scikit-learn)\n",
      "\n",
      "Naive Bayes methods are a set of supervised learning algorithms based on applying Bayes' theorem with the \"naive\" assumption of independence between every pair of features. Given a class variable $y$ and a dependent feature vector $x_1$ through $x_n$,\n",
      "Bayes' theorem states the following relationship:\n",
      "\n",
      "$$\n",
      "P(y \\mid x_1, \\dots, x_n) = \\frac{P(y) P(x_1, \\dots x_n \\mid y)}\n",
      "                                    {P(x_1, \\dots, x_n)}\n",
      "$$\n",
      "\n",
      "Using the naive independence assumption that\n",
      "\n",
      "$$\n",
      "P(x_i | y, x_1, \\dots, x_{i-1}, x_{i+1}, \\dots, x_n) = P(x_i | y)\n",
      "$$\n",
      "\n",
      "for all $i$, this relationship is simplified to\n",
      "\n",
      "$$\n",
      "P(y \\mid x_1, \\dots, x_n) = \\frac{P(y) \\prod_{i=1}^{n} P(x_i \\mid y)}\n",
      "                                    {P(x_1, \\dots, x_n)}\n",
      "$$\n",
      "\n",
      "Since $P(x_1, \\dots, x_n)$ is constant given the input, we can use the following classification rule:\n",
      "\n",
      "$$\n",
      "P(y \\mid x_1, \\dots, x_n) \\propto P(y) \\prod_{i=1}^{n} P(x_i \\mid y) \\\\\n",
      "\\Downarrow \\\\\n",
      "\\hat{y} = \\arg\\max_y P(y) \\prod_{i=1}^{n} P(x_i \\mid y),\n",
      "$$\n",
      "\n",
      "and we can use Maximum A Posteriori (MAP) estimation to estimate: $P(y)$ and $P(x_i \\mid y)$; the former is then the relative frequency of $y$ in the training set.\n",
      "\n",
      "The different naive Bayes classifiers differ mainly by the assumptions they make regarding the distribution of $P(x_i \\mid y)$.\n",
      "\n",
      "Naive Bayes uses an estimator $\\hat{\\theta_{yi}}$ for $P(x_i \\mid y)$ of the form:\n",
      "\n",
      "$$\n",
      "\\hat{\\theta_{yi}} = \\frac{N_{yi} + \\alpha}{N_y + \\alpha * n}\n",
      "$$\n",
      "\n",
      "where $y$ is the class, $i$ is the word (feature), $N_{yi}$ is the number of times feature $i$ occurs in class $y$, and $N_y$ is the total number of times feature $i$ occurs in all classes.  If the word $i$ is in the instance but none of the classes, we let $N_{i}$ equal $N_c$, the number of classes, so that each class has equal probability.\n",
      "\n",
      "To get an understanding of the estimator, we can consider its values at extremes.  Let the parameter $\\alpha$ be set to 1. Since each set can only contain once instance of a word, $N_{yi}$ is either 0 or 1.\n",
      "\n",
      "If $i$ is present only in one of the training classes and is present in this instance, we get\n",
      "\n",
      "$$\n",
      "\\hat{\\theta_{yi}} = \\frac{2}{3}\n",
      "$$\n",
      "\n",
      "If $i$ is present in all of the training classes and is present in this instance, we get\n",
      "\n",
      "$$\n",
      "\\hat{\\theta_{yi}} = \\frac{2}{N_c + 2}.\n",
      "$$\n",
      "\n",
      "If $i$ is present only in one of the training classes and is not present in this instance, we get\n",
      "\n",
      "$$\n",
      "\\hat{\\theta_{yi}} = \\frac{0}{3}\n",
      "$$\n",
      "\n",
      "If $i$ is present in all of the training classes and is present in this instance, we get\n",
      "\n",
      "$$\n",
      "\\hat{\\theta_{yi}} = \\frac{2}{N_c + 2}.\n",
      "$$\n",
      "\n",
      "Bernoulli Naive Bayes considers both $P(i | y)$ and $P( \\neg i | y )$, penalizing the absense of the feature.\n",
      "\n"
     ]
    },
    {
     "cell_type": "code",
     "collapsed": false,
     "input": [
      "from collections import defaultdict\n",
      "\n",
      "class BernoulliNaiveBayes(object):\n",
      "    \"\"\"\n",
      "    Assumes classes are distributed uniformally so p(c) = 1 / N_c.  As a constant, it can be factored out and ignored.\n",
      "    \"\"\"\n",
      "    def __init__(self, alpha=1.0):\n",
      "        self.alpha = alpha\n",
      "        self.word_classes = defaultdict(list)\n",
      "        self.total_classes = 0.0\n",
      "        \n",
      "    def train(self, labelled_classes):\n",
      "        self.total_classes = float(len(labelled_classes))\n",
      "\n",
      "        for label, word_set in labelled_classes:\n",
      "            for w in word_set:\n",
      "                self.word_classes[w].append((label, word_set))\n",
      "                \n",
      "    def _log_likelihood(self, word):\n",
      "        class_features = float(len(class_word_set))\n",
      "        total_features = float(len(self.word_classes))\n",
      "        log_likelihood = np.log(1.0 + self.alpha) - np.log(class_features + self.alpha * total_features)\n",
      "        \n",
      "        return log_likelihood\n",
      "\n",
      "    def classify(self, instance):\n",
      "        instance_label, instance_word_set = instance\n",
      "        \n",
      "        # base class -- no match\n",
      "        best_match = (0.0, None)\n",
      "        \n",
      "        possible_classes = []\n",
      "        for word in instance_word_set:\n",
      "            possible_classes.extend(self.word_classes[word])\n",
      "        \n",
      "        for label, class_word_set in possible_classes:\n",
      "            log_sum_likelihood = -np.log(self.total_classes)\n",
      "            for word in class_word_set:\n",
      "                n_word_classes = float(len(self.word_classes[word]))\n",
      "                if word in instance_word_set:\n",
      "                    log_sum_likelihood += np.log(self.total_classes) - np.log(n_word_classes)\n",
      "            \n",
      "            likelihood = np.exp(log_sum_likelihood)\n",
      "            best_match = max((likelihood, label), best_match)\n",
      "            \n",
      "        return instance_label, best_match[1], best_match[0]"
     ],
     "language": "python",
     "metadata": {},
     "outputs": []
    },
    {
     "cell_type": "code",
     "collapsed": false,
     "input": [
      "bnb = BernoulliNaiveBayes(alpha=1.0)\n",
      "bnb.train(training_word_sets)\n",
      "print bnb.total_classes\n",
      "print len(validation_word_sets)\n",
      "random_word_set_classifications = map(lambda instance: bnb.classify(instance), validation_word_sets)\n"
     ],
     "language": "python",
     "metadata": {},
     "outputs": []
    },
    {
     "cell_type": "code",
     "collapsed": false,
     "input": [
      "bnb = BernoulliNaiveBayes(alpha=1.0)\n",
      "bnb.train(training_word_set_0)\n",
      "print bnb.total_classes\n",
      "print len(validation_word_set_0)\n",
      "offset0_word_set_classifications = map(lambda instance: bnb.classify(instance), validation_word_set_0)\n"
     ],
     "language": "python",
     "metadata": {},
     "outputs": []
    },
    {
     "cell_type": "code",
     "collapsed": false,
     "input": [
      "bnb = BernoulliNaiveBayes(alpha=1.0)\n",
      "bnb.train(training_word_set_1)\n",
      "print bnb.total_classes\n",
      "print len(validation_word_set_1)\n",
      "offset1_word_set_classifications = map(lambda instance: bnb.classify(instance), validation_word_set_1)\n"
     ],
     "language": "python",
     "metadata": {},
     "outputs": []
    },
    {
     "cell_type": "code",
     "collapsed": false,
     "input": [
      "bnb = BernoulliNaiveBayes(alpha=1.0)\n",
      "bnb.train(training_word_set_2)\n",
      "print bnb.total_classes\n",
      "print len(validation_word_set_2)\n",
      "offset2_word_set_classifications = map(lambda instance: bnb.classify(instance), validation_word_set_2)\n"
     ],
     "language": "python",
     "metadata": {},
     "outputs": []
    },
    {
     "cell_type": "code",
     "collapsed": false,
     "input": [
      "random_probs = map(lambda t: t[2], random_word_set_classifications)\n",
      "offset0_probs = map(lambda t: t[2], offset0_word_set_classifications)\n",
      "offset1_probs = map(lambda t: t[2], offset1_word_set_classifications)\n",
      "offset2_probs = map(lambda t: t[2], offset2_word_set_classifications)\n",
      "\n",
      "random_densities, random_bins = np.histogram(random_probs, bins=20)\n",
      "offset0_densities, offset0_bins = np.histogram(offset0_probs, bins=20)\n",
      "offset1_densities, offset1_bins = np.histogram(offset1_probs, bins=20)\n",
      "offset2_densities, offset2_bins = np.histogram(offset2_probs, bins=20)\n",
      "\n",
      "plt.plot(random_bins[:-1], random_densities, color=\"c\", label=\"Random\")\n",
      "plt.hold(True)\n",
      "plt.plot(offset1_bins[:-1], offset0_densities, color=\"r\", label=\"Offset 0\")\n",
      "plt.plot(offset1_bins[:-1], offset1_densities, color=\"g\", label=\"Offset 1\")\n",
      "plt.plot(offset2_bins[:-1], offset2_densities, color=\"b\", label=\"Offset 2\")\n",
      "plt.xlabel(\"Probability\", fontsize=16)\n",
      "plt.ylabel(\"Density\", fontsize=16)\n",
      "plt.legend(loc=\"upper right\")"
     ],
     "language": "python",
     "metadata": {},
     "outputs": []
    },
    {
     "cell_type": "code",
     "collapsed": false,
     "input": [
      "def plot_roc_curve(*triplets):\n",
      "    colors = [\"r\", \"g\", \"b\",]\n",
      "    c = 0\n",
      "    for label, word_classifications, mappings in triplets:\n",
      "        sorted_classif = sorted([(prob, orig, classif) for orig, classif, prob in word_classifications])\n",
      "        sorted_classif.reverse()\n",
      "        tp = 0.0\n",
      "        fp = 0.0\n",
      "        xs = []\n",
      "        ys = []\n",
      "        for _, orig, classif in sorted_classif:\n",
      "            if orig not in mappings:\n",
      "                continue\n",
      "            if mappings[orig] == classif:\n",
      "                tp += 1.0\n",
      "            else:\n",
      "                fp += 1.0\n",
      "            xs.append(fp / 1500.0)\n",
      "            ys.append(tp / 1500.0)\n",
      "        xs.append(1.0)\n",
      "        ys.append(1.0)\n",
      "        print label, tp / 1500.0, fp / 1500.0\n",
      "        plt.plot(xs, ys, color=colors[c], label=label)\n",
      "        c += 1\n",
      "        plt.hold(True)\n",
      "    plt.xlabel(\"Incorrect Class\")\n",
      "    plt.ylabel(\"Correct Class\")\n",
      "    plt.legend(loc=\"lower right\")\n",
      "\n",
      "triplets = [(\"Offset0\", offset0_word_set_classifications, validation_set_labels_0),\n",
      "            (\"Offset1\", offset1_word_set_classifications, validation_set_labels_1), \n",
      "            (\"Offset2\", offset2_word_set_classifications, validation_set_labels_2)]\n",
      "            \n",
      "plot_roc_curve(*triplets)"
     ],
     "language": "python",
     "metadata": {},
     "outputs": []
    },
    {
     "cell_type": "heading",
     "level": 2,
     "metadata": {},
     "source": [
      "Scikit Learn"
     ]
    },
    {
     "cell_type": "code",
     "collapsed": false,
     "input": [
      "vocabulary = dict()\n",
      "i = 0\n",
      "for group in [validation_word_sets, training_word_sets, validation_word_set_0, validation_word_set_1, validation_word_set_2, training_word_set_0, training_word_set_1, training_word_set_2]:\n",
      "    for label, words in group:\n",
      "        for w in words:\n",
      "            if w not in vocabulary:\n",
      "                vocabulary[w] = i\n",
      "                i += 1\n",
      "print len(vocabulary)"
     ],
     "language": "python",
     "metadata": {},
     "outputs": []
    },
    {
     "cell_type": "code",
     "collapsed": false,
     "input": [
      "def build_features(word_sets, vocab):\n",
      "    label_indices = []\n",
      "    labels = np.zeros((len(word_sets)), dtype=np.int32)\n",
      "    features = np.zeros((len(word_sets), len(vocab)), dtype=np.int32)\n",
      "    print features.shape\n",
      "    for label, words in word_sets:\n",
      "        label_indices.append(label)\n",
      "        labels[len(label_indices) - 1] = len(label_indices) - 1\n",
      "        for w in words:\n",
      "            j = vocabulary[w]\n",
      "            features[len(label_indices) - 1, j] = 1\n",
      "    \n",
      "    return features, label_indices, labels\n"
     ],
     "language": "python",
     "metadata": {},
     "outputs": []
    },
    {
     "cell_type": "code",
     "collapsed": false,
     "input": [
      "validation_features, validation_label_indices, validation_labels = build_features(validation_word_sets, vocabulary)\n",
      "training_features, training_label_indices, training_labels = build_features(training_word_sets, vocabulary)\n",
      "validation_0_features, validation_0_label_indices, validation_0_labels = build_features(validation_word_set_0, vocabulary)\n",
      "validation_1_features, validation_1_label_indices, validation_1_labels = build_features(validation_word_set_1, vocabulary)\n",
      "validation_2_features, validation_2_label_indices, validation_2_labels = build_features(validation_word_set_2, vocabulary)\n",
      "training_0_features, training_0_label_indices, training_0_labels = build_features(training_word_set_0, vocabulary)\n",
      "training_1_features, training_1_label_indices, training_1_labels = build_features(training_word_set_1, vocabulary)\n",
      "training_2_features, training_2_label_indices, training_2_labels = build_features(training_word_set_2, vocabulary)"
     ],
     "language": "python",
     "metadata": {},
     "outputs": []
    },
    {
     "cell_type": "code",
     "collapsed": false,
     "input": [
      "from sklearn.naive_bayes import MultinomialNB\n",
      "\n",
      "mnb_0 = MultinomialNB()\n",
      "mnb_0.fit(training_0_features, training_0_labels)\n",
      "predictions_0 = mnb_0.predict(validation_0_features)\n",
      "\n",
      "mnb_1 = MultinomialNB()\n",
      "mnb_1.fit(training_1_features, training_1_labels)\n",
      "predictions_1 = mnb_1.predict(validation_1_features)\n",
      "\n",
      "mnb_2 = MultinomialNB()\n",
      "mnb_2.fit(training_2_features, training_2_labels)\n",
      "predictions_2 = mnb_2.predict(validation_2_features)\n"
     ],
     "language": "python",
     "metadata": {},
     "outputs": []
    },
    {
     "cell_type": "code",
     "collapsed": false,
     "input": [
      "def compute_errors(quads):\n",
      "    for label, predictions, validation_label_indices, training_label_indices, mappings in quads:\n",
      "        tp = 0.0\n",
      "        fp = 0.0\n",
      "        n_samples = predictions.shape[0]\n",
      "        for s in xrange(n_samples):\n",
      "            orig_label = validation_label_indices[s]\n",
      "            pred_label = training_label_indices[predictions[s]]\n",
      "            \n",
      "            if orig_label not in mappings:\n",
      "                continue\n",
      "                \n",
      "            if mappings[orig_label] == pred_label:\n",
      "                tp += 1.0\n",
      "            else:\n",
      "                fp += 1.0\n",
      "                \n",
      "        print label, tp / 1500.0, fp / 1500.0\n",
      "\n",
      "quads = [(\"Offset0\", predictions_0, validation_0_label_indices, training_0_label_indices, validation_set_labels_0),\n",
      "         (\"Offset1\", predictions_1, validation_1_label_indices, training_1_label_indices, validation_set_labels_1),\n",
      "         (\"Offset2\", predictions_2, validation_2_label_indices, training_2_label_indices, validation_set_labels_2)]\n",
      "\n",
      "compute_errors(quads)"
     ],
     "language": "python",
     "metadata": {},
     "outputs": []
    },
    {
     "cell_type": "code",
     "collapsed": false,
     "input": [
      "from sklearn.naive_bayes import BernoulliNB\n",
      "\n",
      "bnb_0 = BernoulliNB()\n",
      "bnb_0.fit(training_0_features, training_0_labels)\n",
      "bnb_predictions_0 = bnb_0.predict(validation_0_features)\n",
      "\n",
      "bnb_1 = BernoulliNB()\n",
      "bnb_1.fit(training_1_features, training_1_labels)\n",
      "bnb_predictions_1 = bnb_1.predict(validation_1_features)\n",
      "\n",
      "bnb_2 = BernoulliNB()\n",
      "bnb_2.fit(training_2_features, training_2_labels)\n",
      "bnb_predictions_2 = bnb_2.predict(validation_2_features)\n"
     ],
     "language": "python",
     "metadata": {},
     "outputs": []
    },
    {
     "cell_type": "code",
     "collapsed": false,
     "input": [
      "def compute_errors(quads):\n",
      "    for label, predictions, validation_label_indices, training_label_indices, mappings in quads:\n",
      "        tp = 0.0\n",
      "        fp = 0.0\n",
      "        n_samples = predictions.shape[0]\n",
      "        for s in xrange(n_samples):\n",
      "            orig_label = validation_label_indices[s]\n",
      "            pred_label = training_label_indices[predictions[s]]\n",
      "            \n",
      "            if orig_label not in mappings:\n",
      "                continue\n",
      "                \n",
      "            if mappings[orig_label] == pred_label:\n",
      "                tp += 1.0\n",
      "            else:\n",
      "                fp += 1.0\n",
      "                \n",
      "        print label, tp / 1500.0, fp / 1500.0\n",
      "\n",
      "quads = [(\"Offset0\", bnb_predictions_0, validation_0_label_indices, training_0_label_indices, validation_set_labels_0),\n",
      "         (\"Offset1\", bnb_predictions_1, validation_1_label_indices, training_1_label_indices, validation_set_labels_1),\n",
      "         (\"Offset2\", bnb_predictions_2, validation_2_label_indices, training_2_label_indices, validation_set_labels_2)]\n",
      "\n",
      "compute_errors(quads)"
     ],
     "language": "python",
     "metadata": {},
     "outputs": []
    },
    {
     "cell_type": "code",
     "collapsed": false,
     "input": [
      "from sklearn.naive_bayes import MultinomialNB\n",
      "\n",
      "mnb_0_05 = MultinomialNB(alpha=0.5)\n",
      "mnb_0_05.fit(training_0_features, training_0_labels)\n",
      "predictions_0_05 = mnb_0_05.predict(validation_0_features)\n",
      "\n",
      "mnb_1_05 = MultinomialNB(alpha=0.5)\n",
      "mnb_1_05.fit(training_1_features, training_1_labels)\n",
      "predictions_1_05 = mnb_1_05.predict(validation_1_features)\n",
      "\n",
      "mnb_2_05 = MultinomialNB(alpha=0.5)\n",
      "mnb_2_05.fit(training_2_features, training_2_labels)\n",
      "predictions_2_05 = mnb_2_05.predict(validation_2_features)"
     ],
     "language": "python",
     "metadata": {},
     "outputs": []
    },
    {
     "cell_type": "code",
     "collapsed": false,
     "input": [
      "def compute_errors(quads):\n",
      "    for label, predictions, validation_label_indices, training_label_indices, mappings in quads:\n",
      "        tp = 0.0\n",
      "        fp = 0.0\n",
      "        n_samples = predictions.shape[0]\n",
      "        for s in xrange(n_samples):\n",
      "            orig_label = validation_label_indices[s]\n",
      "            pred_label = training_label_indices[predictions[s]]\n",
      "            \n",
      "            if orig_label not in mappings:\n",
      "                continue\n",
      "                \n",
      "            if mappings[orig_label] == pred_label:\n",
      "                tp += 1.0\n",
      "            else:\n",
      "                fp += 1.0\n",
      "                \n",
      "        print label, tp / 1500.0, fp / 1500.0\n",
      "\n",
      "quads = [(\"Offset0\", predictions_0_05, validation_0_label_indices, training_0_label_indices, validation_set_labels_0),\n",
      "         (\"Offset1\", predictions_1_05, validation_1_label_indices, training_1_label_indices, validation_set_labels_1),\n",
      "         (\"Offset2\", predictions_2_05, validation_2_label_indices, training_2_label_indices, validation_set_labels_2)]\n",
      "\n",
      "compute_errors(quads)"
     ],
     "language": "python",
     "metadata": {},
     "outputs": []
    },
    {
     "cell_type": "code",
     "collapsed": false,
     "input": [
      "plt.plot(np.arange(0.01, 10, 0.01), np.log(np.arange(0.01, 10, 0.01)))"
     ],
     "language": "python",
     "metadata": {},
     "outputs": []
    },
    {
     "cell_type": "code",
     "collapsed": false,
     "input": [],
     "language": "python",
     "metadata": {},
     "outputs": []
    }
   ],
   "metadata": {}
  }
 ]
}